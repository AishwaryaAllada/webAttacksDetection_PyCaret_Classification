{
 "cells": [
  {
   "cell_type": "code",
   "execution_count": 5,
   "id": "lightweight-school",
   "metadata": {},
   "outputs": [
    {
     "name": "stdout",
     "output_type": "stream",
     "text": [
      "14.139.187.130 - - [01/Jan/2017:02:16:51 -0800] \"GET / HTTP/1.1\" 200 10267 \"https://www.google.co.in/\" \"Mozilla/5.0 (Windows NT 6.1) AppleWebKit/537.36 (KHTML, like Gecko) Chrome/55.0.2883.87 Safari/537.36\"\n"
     ]
    }
   ],
   "source": [
    "# log_line = \"14.139.187.130 - - [01/Jan/2017:02:16:51 -0800] \\\"GET / HTTP/1.1\\\" 200 10267 \\\"https://www.google.co.in/\\\" \\\"Mozilla/5.0 (Windows NT 6.1) AppleWebKit/537.36 (KHTML, like Gecko) Chrome/55.0.2883.87 Safari/537.36\\\"\"\n",
    "# print(log_line)"
   ]
  },
  {
   "cell_type": "code",
   "execution_count": 6,
   "id": "stuffed-pastor",
   "metadata": {},
   "outputs": [],
   "source": [
    "# regex = '([(\\d\\.)]+) - - \\[(.*?)\\] \"(.*?)\" (\\d+) (.+) \"(.*?)\" \"(.*?)\"'"
   ]
  },
  {
   "cell_type": "code",
   "execution_count": 13,
   "id": "sharing-pierce",
   "metadata": {},
   "outputs": [],
   "source": [
    "# log_line=log_line.replace(',','_')"
   ]
  },
  {
   "cell_type": "code",
   "execution_count": 14,
   "id": "configured-grass",
   "metadata": {},
   "outputs": [
    {
     "data": {
      "text/plain": [
       "'14.139.187.130 - - [01/Jan/2017:02:16:51 -0800] \"GET / HTTP/1.1\" 200 10267 \"https://www.google.co.in/\" \"Mozilla/5.0 (Windows NT 6.1) AppleWebKit/537.36 (KHTML_ like Gecko) Chrome/55.0.2883.87 Safari/537.36\"'"
      ]
     },
     "execution_count": 14,
     "metadata": {},
     "output_type": "execute_result"
    }
   ],
   "source": [
    "# log_line"
   ]
  },
  {
   "cell_type": "code",
   "execution_count": 15,
   "id": "desperate-kansas",
   "metadata": {},
   "outputs": [],
   "source": [
    "# import re\n",
    "# log_line = re.match(regex,log_line).groups()\n"
   ]
  },
  {
   "cell_type": "code",
   "execution_count": 7,
   "id": "normal-begin",
   "metadata": {},
   "outputs": [],
   "source": [
    "# Result = re.search(regex,log_line)\n",
    "\n",
    "# if Result:\n",
    "#     k = Result.groups()"
   ]
  },
  {
   "cell_type": "code",
   "execution_count": 8,
   "id": "colored-crash",
   "metadata": {},
   "outputs": [
    {
     "data": {
      "text/plain": [
       "('14.139.187.130',\n",
       " '01/Jan/2017:02:16:51 -0800',\n",
       " 'GET / HTTP/1.1',\n",
       " '200',\n",
       " '10267',\n",
       " 'https://www.google.co.in/',\n",
       " 'Mozilla/5.0 (Windows NT 6.1) AppleWebKit/537.36 (KHTML, like Gecko) Chrome/55.0.2883.87 Safari/537.36')"
      ]
     },
     "execution_count": 8,
     "metadata": {},
     "output_type": "execute_result"
    }
   ],
   "source": [
    "# k"
   ]
  },
  {
   "cell_type": "code",
   "execution_count": 9,
   "id": "working-tension",
   "metadata": {},
   "outputs": [],
   "source": [
    "# size = str(k[4]).rstrip('\\n')"
   ]
  },
  {
   "cell_type": "code",
   "execution_count": 16,
   "id": "above-check",
   "metadata": {},
   "outputs": [
    {
     "data": {
      "text/plain": [
       "('14.139.187.130',\n",
       " '01/Jan/2017:02:16:51 -0800',\n",
       " 'GET / HTTP/1.1',\n",
       " '200',\n",
       " '10267',\n",
       " 'https://www.google.co.in/',\n",
       " 'Mozilla/5.0 (Windows NT 6.1) AppleWebKit/537.36 (KHTML_ like Gecko) Chrome/55.0.2883.87 Safari/537.36')"
      ]
     },
     "execution_count": 16,
     "metadata": {},
     "output_type": "execute_result"
    }
   ],
   "source": [
    "# log_line"
   ]
  },
  {
   "cell_type": "code",
   "execution_count": 18,
   "id": "cooked-stadium",
   "metadata": {},
   "outputs": [
    {
     "data": {
      "text/plain": [
       "'10267'"
      ]
     },
     "execution_count": 18,
     "metadata": {},
     "output_type": "execute_result"
    }
   ],
   "source": [
    "# size = str(log_line[4]).rstrip('\\n')\n",
    "# size"
   ]
  },
  {
   "cell_type": "code",
   "execution_count": 26,
   "id": "twenty-coach",
   "metadata": {},
   "outputs": [
    {
     "name": "stdout",
     "output_type": "stream",
     "text": [
      "200\n",
      "GET / HTTP/1.1\n"
     ]
    }
   ],
   "source": [
    "# return_code = log_line[3]\n",
    "# print(return_code)\n",
    "# url = log_line[2]\n",
    "# print(url)"
   ]
  },
  {
   "cell_type": "code",
   "execution_count": 27,
   "id": "improving-history",
   "metadata": {},
   "outputs": [
    {
     "name": "stdout",
     "output_type": "stream",
     "text": [
      "1\n",
      "14\n"
     ]
    }
   ],
   "source": [
    "# param_number = len(url.split('&'))\n",
    "# print(param_number)\n",
    "# url_length = len(url)\n",
    "# print(url_length)\n"
   ]
  },
  {
   "cell_type": "code",
   "execution_count": 28,
   "id": "bulgarian-house",
   "metadata": {},
   "outputs": [],
   "source": [
    "# if '-' in size:\n",
    "#     size = 0\n",
    "# else:\n",
    "#     size = int(size)"
   ]
  },
  {
   "cell_type": "code",
   "execution_count": 30,
   "id": "massive-guatemala",
   "metadata": {},
   "outputs": [],
   "source": [
    "# if (int(return_code) > 0):\n",
    "#     charcs = {}\n",
    "#     charcs['size'] = int(size)\n",
    "#     charcs['param_number'] = int(param_number)\n",
    "#     charcs['length'] = int(url_length)\n",
    "#     charcs['return_code'] = int(return_code)\n",
    "# #     data[url] = charcs\n",
    "\n"
   ]
  },
  {
   "cell_type": "code",
   "execution_count": 31,
   "id": "visible-effect",
   "metadata": {},
   "outputs": [
    {
     "data": {
      "text/plain": [
       "{'size': 10267, 'param_number': 1, 'length': 14, 'return_code': 200}"
      ]
     },
     "execution_count": 31,
     "metadata": {},
     "output_type": "execute_result"
    }
   ],
   "source": [
    "# charcs"
   ]
  },
  {
   "cell_type": "code",
   "execution_count": 33,
   "id": "growing-sheffield",
   "metadata": {},
   "outputs": [],
   "source": [
    "# data = {}\n",
    "# data[url] = charcs"
   ]
  },
  {
   "cell_type": "code",
   "execution_count": 34,
   "id": "computational-waters",
   "metadata": {},
   "outputs": [
    {
     "data": {
      "text/plain": [
       "{'GET / HTTP/1.1': {'size': 10267,\n",
       "  'param_number': 1,\n",
       "  'length': 14,\n",
       "  'return_code': 200}}"
      ]
     },
     "execution_count": 34,
     "metadata": {},
     "output_type": "execute_result"
    }
   ],
   "source": [
    "# data"
   ]
  },
  {
   "cell_type": "code",
   "execution_count": 8,
   "id": "thick-angola",
   "metadata": {},
   "outputs": [],
   "source": [
    "\n",
    "import os \n",
    "\n",
    "os.chdir('/home/akallada/Desktop/projects/sec/logs') \n",
    "# print(os.getcwd()) \n",
    "COUNT = 1\n",
    "\n",
    "def increment(): \n",
    "\tglobal COUNT \n",
    "\tCOUNT = COUNT + 1\n",
    "\n",
    "\n",
    "for f in os.listdir(): \n",
    "\tf_name = str(COUNT)+\"_JAN_17\" \n",
    "\tincrement() \n",
    "\n",
    "\tnew_name = '{}'.format(f_name) \n",
    "\tos.rename(f, new_name) \n"
   ]
  },
  {
   "cell_type": "code",
   "execution_count": 9,
   "id": "southeast-porcelain",
   "metadata": {},
   "outputs": [],
   "source": [
    "# f = open(\"./logs/access.log.2017-01-20\", \"r\")\n",
    "# f.read()\n",
    "import os\n",
    "import re\n",
    "import pandas as pd\n",
    "\n",
    "output = []\n",
    "\n",
    "\n",
    "for log_filess in os.listdir(\"/home/akallada/Desktop/projects/sec/logs\"):\n",
    "    with open(log_filess) as f:\n",
    "        for log_line in f:\n",
    "            attack = \"0\"\n",
    "            regex = '([(\\d\\.)]+) - - \\[(.*?)\\] \"(.*?)\" (\\d+) (.+) \"(.*?)\" \"(.*?)\"'\n",
    "            log_line=re.match(regex,log_line).groups()\n",
    "            size=str(log_line[4]).rstrip('\\n')\n",
    "            return_code=log_line[3]\n",
    "            url=log_line[2]\n",
    "            param_number=len(url.split('&'))\n",
    "            url_length=len(url)\n",
    "            if '-' in size:\n",
    "                    size=0\n",
    "            else:\n",
    "                    size=int(size)\n",
    "            if (int(return_code)>0):\n",
    "                    charcs={}\n",
    "                    charcs['size']=int(size)\n",
    "                    charcs['param_number']=int(param_number)\n",
    "                    charcs['length']=int(url_length)\n",
    "                    charcs['return_code']=int(return_code)\n",
    "                    charcs['url'] = url\n",
    "                    patterns = ['honeypot','%3b','xss','sql','union','%3c','%3e','eval']\n",
    "\n",
    "                    for i in patterns:\n",
    "                        if i in url:\n",
    "                            attack = \"1\"\n",
    "    #                         print(\"ooooo\")\n",
    "                            break\n",
    "                    charcs['attack'] = attack\n",
    "\n",
    "\n",
    "                    output.append(charcs)\n",
    "\n",
    "        \n",
    "\n",
    "df = pd.DataFrame(output)\n",
    "        "
   ]
  },
  {
   "cell_type": "code",
   "execution_count": 10,
   "id": "historic-directory",
   "metadata": {},
   "outputs": [
    {
     "data": {
      "text/html": [
       "<div>\n",
       "<style scoped>\n",
       "    .dataframe tbody tr th:only-of-type {\n",
       "        vertical-align: middle;\n",
       "    }\n",
       "\n",
       "    .dataframe tbody tr th {\n",
       "        vertical-align: top;\n",
       "    }\n",
       "\n",
       "    .dataframe thead th {\n",
       "        text-align: right;\n",
       "    }\n",
       "</style>\n",
       "<table border=\"1\" class=\"dataframe\">\n",
       "  <thead>\n",
       "    <tr style=\"text-align: right;\">\n",
       "      <th></th>\n",
       "      <th>size</th>\n",
       "      <th>param_number</th>\n",
       "      <th>length</th>\n",
       "      <th>return_code</th>\n",
       "      <th>url</th>\n",
       "      <th>attack</th>\n",
       "    </tr>\n",
       "  </thead>\n",
       "  <tbody>\n",
       "    <tr>\n",
       "      <th>0</th>\n",
       "      <td>5456</td>\n",
       "      <td>1</td>\n",
       "      <td>47</td>\n",
       "      <td>200</td>\n",
       "      <td>GET /self.logs/error.log.2015-02-13.gz HTTP/1.1</td>\n",
       "      <td>0</td>\n",
       "    </tr>\n",
       "    <tr>\n",
       "      <th>1</th>\n",
       "      <td>10269</td>\n",
       "      <td>1</td>\n",
       "      <td>14</td>\n",
       "      <td>200</td>\n",
       "      <td>GET / HTTP/1.1</td>\n",
       "      <td>0</td>\n",
       "    </tr>\n",
       "    <tr>\n",
       "      <th>2</th>\n",
       "      <td>27787</td>\n",
       "      <td>1</td>\n",
       "      <td>30</td>\n",
       "      <td>200</td>\n",
       "      <td>GET /twitter-icon.png HTTP/1.1</td>\n",
       "      <td>0</td>\n",
       "    </tr>\n",
       "    <tr>\n",
       "      <th>3</th>\n",
       "      <td>7428</td>\n",
       "      <td>1</td>\n",
       "      <td>29</td>\n",
       "      <td>200</td>\n",
       "      <td>GET /GitHub-Mark.png HTTP/1.1</td>\n",
       "      <td>0</td>\n",
       "    </tr>\n",
       "    <tr>\n",
       "      <th>4</th>\n",
       "      <td>590</td>\n",
       "      <td>1</td>\n",
       "      <td>39</td>\n",
       "      <td>200</td>\n",
       "      <td>GET /bootstrap/img/favicon.ico HTTP/1.1</td>\n",
       "      <td>0</td>\n",
       "    </tr>\n",
       "    <tr>\n",
       "      <th>...</th>\n",
       "      <td>...</td>\n",
       "      <td>...</td>\n",
       "      <td>...</td>\n",
       "      <td>...</td>\n",
       "      <td>...</td>\n",
       "      <td>...</td>\n",
       "    </tr>\n",
       "    <tr>\n",
       "      <th>95690</th>\n",
       "      <td>10213</td>\n",
       "      <td>1</td>\n",
       "      <td>14</td>\n",
       "      <td>200</td>\n",
       "      <td>GET / HTTP/1.1</td>\n",
       "      <td>0</td>\n",
       "    </tr>\n",
       "    <tr>\n",
       "      <th>95691</th>\n",
       "      <td>10269</td>\n",
       "      <td>1</td>\n",
       "      <td>14</td>\n",
       "      <td>200</td>\n",
       "      <td>GET / HTTP/1.1</td>\n",
       "      <td>0</td>\n",
       "    </tr>\n",
       "    <tr>\n",
       "      <th>95692</th>\n",
       "      <td>7428</td>\n",
       "      <td>1</td>\n",
       "      <td>29</td>\n",
       "      <td>200</td>\n",
       "      <td>GET /GitHub-Mark.png HTTP/1.1</td>\n",
       "      <td>0</td>\n",
       "    </tr>\n",
       "    <tr>\n",
       "      <th>95693</th>\n",
       "      <td>27787</td>\n",
       "      <td>1</td>\n",
       "      <td>30</td>\n",
       "      <td>200</td>\n",
       "      <td>GET /twitter-icon.png HTTP/1.1</td>\n",
       "      <td>0</td>\n",
       "    </tr>\n",
       "    <tr>\n",
       "      <th>95694</th>\n",
       "      <td>589</td>\n",
       "      <td>1</td>\n",
       "      <td>39</td>\n",
       "      <td>200</td>\n",
       "      <td>GET /bootstrap/img/favicon.ico HTTP/1.1</td>\n",
       "      <td>0</td>\n",
       "    </tr>\n",
       "  </tbody>\n",
       "</table>\n",
       "<p>95695 rows × 6 columns</p>\n",
       "</div>"
      ],
      "text/plain": [
       "        size  param_number  length  return_code  \\\n",
       "0       5456             1      47          200   \n",
       "1      10269             1      14          200   \n",
       "2      27787             1      30          200   \n",
       "3       7428             1      29          200   \n",
       "4        590             1      39          200   \n",
       "...      ...           ...     ...          ...   \n",
       "95690  10213             1      14          200   \n",
       "95691  10269             1      14          200   \n",
       "95692   7428             1      29          200   \n",
       "95693  27787             1      30          200   \n",
       "95694    589             1      39          200   \n",
       "\n",
       "                                                   url attack  \n",
       "0      GET /self.logs/error.log.2015-02-13.gz HTTP/1.1      0  \n",
       "1                                       GET / HTTP/1.1      0  \n",
       "2                       GET /twitter-icon.png HTTP/1.1      0  \n",
       "3                        GET /GitHub-Mark.png HTTP/1.1      0  \n",
       "4              GET /bootstrap/img/favicon.ico HTTP/1.1      0  \n",
       "...                                                ...    ...  \n",
       "95690                                   GET / HTTP/1.1      0  \n",
       "95691                                   GET / HTTP/1.1      0  \n",
       "95692                    GET /GitHub-Mark.png HTTP/1.1      0  \n",
       "95693                   GET /twitter-icon.png HTTP/1.1      0  \n",
       "95694          GET /bootstrap/img/favicon.ico HTTP/1.1      0  \n",
       "\n",
       "[95695 rows x 6 columns]"
      ]
     },
     "execution_count": 10,
     "metadata": {},
     "output_type": "execute_result"
    }
   ],
   "source": [
    "df"
   ]
  },
  {
   "cell_type": "code",
   "execution_count": 12,
   "id": "collected-amplifier",
   "metadata": {},
   "outputs": [],
   "source": [
    "df.to_csv(\"logs_dataset.csv\")"
   ]
  },
  {
   "cell_type": "code",
   "execution_count": null,
   "id": "pacific-speaker",
   "metadata": {},
   "outputs": [],
   "source": []
  }
 ],
 "metadata": {
  "kernelspec": {
   "display_name": "Python 3",
   "language": "python",
   "name": "python3"
  },
  "language_info": {
   "codemirror_mode": {
    "name": "ipython",
    "version": 3
   },
   "file_extension": ".py",
   "mimetype": "text/x-python",
   "name": "python",
   "nbconvert_exporter": "python",
   "pygments_lexer": "ipython3",
   "version": "3.6.13"
  }
 },
 "nbformat": 4,
 "nbformat_minor": 5
}
